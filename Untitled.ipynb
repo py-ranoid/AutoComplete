{
 "cells": [
  {
   "cell_type": "markdown",
   "metadata": {},
   "source": [
    "## Completing words using NLP\n",
    "\n",
    "### Aim : To suggest top k strings given a substring"
   ]
  },
  {
   "cell_type": "code",
   "execution_count": 4,
   "metadata": {},
   "outputs": [
    {
     "name": "stdout",
     "output_type": "stream",
     "text": [
      "Number of words in corpus : 229483\n",
      "Top 10 words (alphabetically):\n",
      "[u'aalii', u'aardvark', u'aardwolf', u'aaron', u'aaronic', u'aaronical', u'aaronite', u'aaronitic', u'ababdeh', u'ababua']\n"
     ]
    }
   ],
   "source": [
    "from nltk.corpus import words\n",
    "w = words.words()\n",
    "reduced = [i.lower() for i in w if len(i)>4] \n",
    "print \"Number of words in corpus :\",len(reduced)\n",
    "print \"Top 10 words (alphabetically):\\n\",reduced[:10]"
   ]
  },
  {
   "cell_type": "code",
   "execution_count": 8,
   "metadata": {},
   "outputs": [
    {
     "data": {
      "text/plain": [
       "[('b', 'r', 'i'),\n",
       " ('r', 'i', 'l'),\n",
       " ('i', 'l', 'l'),\n",
       " ('l', 'l', 'i'),\n",
       " ('l', 'i', 'a'),\n",
       " ('i', 'a', 'n'),\n",
       " ('a', 'n', 't')]"
      ]
     },
     "execution_count": 8,
     "metadata": {},
     "output_type": "execute_result"
    }
   ],
   "source": [
    "from nltk import ngrams\n",
    "n = 3\n",
    "list(ngrams('brilliant', n))"
   ]
  }
 ],
 "metadata": {
  "kernelspec": {
   "display_name": "Python 2",
   "language": "python",
   "name": "python2"
  },
  "language_info": {
   "codemirror_mode": {
    "name": "ipython",
    "version": 2
   },
   "file_extension": ".py",
   "mimetype": "text/x-python",
   "name": "python",
   "nbconvert_exporter": "python",
   "pygments_lexer": "ipython2",
   "version": "2.7.14"
  }
 },
 "nbformat": 4,
 "nbformat_minor": 2
}
